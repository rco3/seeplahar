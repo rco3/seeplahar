{
 "cells": [
  {
   "metadata": {},
   "cell_type": "markdown",
   "source": [
    "super: user for my SPH testing: LimeTord@your.mom pass: reykjavik\n",
    "email: LimeTord@your.mom\n",
    "\n",
    "Here's a QR code scan, Sunday 5/26 1:15P:\n",
    "\n",
    "SeedLot 351319ce-5dfe-496e-aa99-578b63612986\n",
    "SeedLot 351319ce-5dfe-496e-aa99-578b63612986\n",
    "SeedLot 7540a67e-c82f-400f-aa9b-0a3e0b29ba3a\n",
    "SeedLot aecdd3ac-4be8-4fd9-b8f0-da30e0375e6e\n",
    "SeedLot 7540a67e-c82f-400f-aa9b-0a3e0b29ba3a\n",
    "\n",
    "\n",
    "When changing something in the schema so major that your test data is fubar, you can wipe the db.sqlite3 file and clear all the migration data:\n",
    "\n",
    "find . -path \"*/migrations/*.py\" -not -name \"__init__.py\" -delete \n",
    "find . -path \"*/migrations/*.pyc\" -delete\n",
    "\n",
    "\n",
    "then you need to uninstall and reinstall django.  Yeah, I know, stupid.\n",
    "\n",
    "pip3 uninstall Django\n",
    "pip3 install Django\n",
    "\n",
    "You'll need to leave an instance of \n",
    "\n",
    "python manage.py tailwind start\n",
    "\n",
    "running while you test your server.  This dynamically updates the tailwind.css files \n",
    "when you change your .html\n",
    "\n",
    "\n",
    " pip3 install django-environ    \n",
    " \"qrcode[pil]\"  \n",
    " email-validator  \n",
    " pip install djangorestframework-jwt\n",
    " pip install djangorestframework"
   ],
   "id": "f7b640789e7f6ee1"
  }
 ],
 "metadata": {
  "kernelspec": {
   "display_name": "Python 3",
   "language": "python",
   "name": "python3"
  },
  "language_info": {
   "codemirror_mode": {
    "name": "ipython",
    "version": 2
   },
   "file_extension": ".py",
   "mimetype": "text/x-python",
   "name": "python",
   "nbconvert_exporter": "python",
   "pygments_lexer": "ipython2",
   "version": "2.7.6"
  }
 },
 "nbformat": 4,
 "nbformat_minor": 5
}
